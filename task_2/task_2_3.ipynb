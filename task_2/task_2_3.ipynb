{
 "cells": [
  {
   "cell_type": "code",
   "execution_count": 1,
   "metadata": {},
   "outputs": [],
   "source": [
    "import numpy as np\n",
    "import pandas as pd\n",
    "import matplotlib as mpl\n",
    "import matplotlib.pyplot as plt\n",
    "import ipywidgets  # Библиотека для интерактивных контролов в jupyter notebook'е\n",
    "\n",
    "%matplotlib inline"
   ]
  },
  {
   "cell_type": "code",
   "execution_count": 10,
   "metadata": {},
   "outputs": [],
   "source": [
    "def find_most_severe_pump_and_dump(coins, symbol, start_date, end_date):\n",
    "    data = coins[(coins['date'] >= start_date) & (coins['date'] <= end_date) & (coins['symbol'] == symbol)]\n",
    "    tmp = data['high'] / data[['open', 'close']].max(axis=1)\n",
    "    return tmp.max()\n",
    "    \n",
    "\n",
    "coins = pd.read_csv('coins.csv')"
   ]
  },
  {
   "cell_type": "code",
   "execution_count": 11,
   "metadata": {},
   "outputs": [
    {
     "data": {
      "text/plain": [
       "1.1428940004366206"
      ]
     },
     "execution_count": 11,
     "metadata": {},
     "output_type": "execute_result"
    }
   ],
   "source": [
    "find_most_severe_pump_and_dump(coins, symbol='BTC', start_date='2017-06-01', end_date='2018-06-01')"
   ]
  },
  {
   "cell_type": "code",
   "execution_count": 12,
   "metadata": {},
   "outputs": [],
   "source": [
    "ltc = find_most_severe_pump_and_dump(\n",
    "    coins=coins,\n",
    "    symbol='LTC',\n",
    "    start_date='1999-01-01',\n",
    "    end_date='2222-22-22'\n",
    ")\n",
    "\n",
    "doge = find_most_severe_pump_and_dump(\n",
    "    coins=coins,\n",
    "    symbol='DOGE',\n",
    "    start_date='1999-01-01',\n",
    "    end_date='2222-22-22'\n",
    ")\n"
   ]
  },
  {
   "cell_type": "code",
   "execution_count": 13,
   "metadata": {},
   "outputs": [
    {
     "name": "stdout",
     "output_type": "stream",
     "text": [
      "pup'n'dump: doge 2.8963210702341136\n",
      "pup'n'dump: ltc 1.4549071618037137\n",
      "\n"
     ]
    }
   ],
   "source": [
    "print('pup\\'n\\'dump: doge {}\\npup\\'n\\'dump: ltc {}\\n'.format(doge, ltc))"
   ]
  },
  {
   "cell_type": "markdown",
   "metadata": {},
   "source": [
    "Как мы можем заметиь монетка DOGE не очень честная."
   ]
  },
  {
   "cell_type": "markdown",
   "metadata": {},
   "source": []
  }
 ],
 "metadata": {
  "kernelspec": {
   "display_name": ".venv",
   "language": "python",
   "name": "python3"
  },
  "language_info": {
   "codemirror_mode": {
    "name": "ipython",
    "version": 3
   },
   "file_extension": ".py",
   "mimetype": "text/x-python",
   "name": "python",
   "nbconvert_exporter": "python",
   "pygments_lexer": "ipython3",
   "version": "3.11.7"
  }
 },
 "nbformat": 4,
 "nbformat_minor": 2
}
